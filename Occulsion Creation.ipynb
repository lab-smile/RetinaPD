{
 "cells": [
  {
   "cell_type": "code",
   "execution_count": 1,
   "metadata": {},
   "outputs": [],
   "source": [
    "import os\n",
    "\n",
    "import matplotlib as mpl\n",
    "import matplotlib.pyplot as plt\n",
    "from IPython.display import display\n",
    "%matplotlib inline\n",
    "\n",
    "import pandas as pd\n",
    "import numpy as np\n",
    "\n",
    "from PIL import Image\n",
    "from resizeimage import resizeimage\n",
    "\n",
    "from skimage.feature import hog\n",
    "from skimage.color import rgb2grey\n",
    "\n",
    "from sklearn.model_selection import train_test_split\n",
    "from sklearn.metrics import accuracy_score\n",
    "\n",
    "from sklearn.preprocessing import StandardScaler\n",
    "from sklearn.decomposition import PCA\n",
    "from sklearn.svm import SVC\n",
    "\n",
    "from sklearn.metrics import roc_curve, auc"
   ]
  },
  {
   "cell_type": "code",
   "execution_count": 2,
   "metadata": {},
   "outputs": [],
   "source": [
    "def ImageOpen():\n",
    "    root=\"Green/\"\n",
    "    filename = \"390.png\"\n",
    "    file_path = os.path.join(root, filename)\n",
    "    img = Image.open(file_path)\n",
    "    img = resizeimage.resize_contain(img, [210, 210]) \n",
    "    \n",
    "    return img"
   ]
  },
  {
   "cell_type": "code",
   "execution_count": 3,
   "metadata": {},
   "outputs": [
    {
     "data": {
      "text/plain": [
       "(4996, 2)"
      ]
     },
     "execution_count": 3,
     "metadata": {},
     "output_type": "execute_result"
    }
   ],
   "source": [
    "indices=pd.read_excel(\"Green\\\\390index.xlsx\", header=None)\n",
    "indices.shape"
   ]
  },
  {
   "cell_type": "code",
   "execution_count": 4,
   "metadata": {},
   "outputs": [],
   "source": [
    "def occulude(img,indices,q):\n",
    "    pixels = img.load() # create the pixel map\n",
    "    \n",
    "    i,j=indices.iloc[q]\n",
    "     # For every row\n",
    "    pixels[j,i]=0 #Sets Pixel Value to 0\n",
    "        \n",
    "    return np.array(img)"
   ]
  },
  {
   "cell_type": "code",
   "execution_count": 5,
   "metadata": {},
   "outputs": [],
   "source": [
    "def create_features(img):\n",
    "    # flatten three channel color image\n",
    "    color_features = img.flatten()\n",
    "\n",
    "    # combine color and hog features into a single array\n",
    "    flat_features = np.hstack(color_features)\n",
    "    return flat_features"
   ]
  },
  {
   "cell_type": "code",
   "execution_count": null,
   "metadata": {},
   "outputs": [],
   "source": [
    "#Warning the next cell takes a very long time to run"
   ]
  },
  {
   "cell_type": "code",
   "execution_count": null,
   "metadata": {},
   "outputs": [],
   "source": [
    "features_list = []\n",
    "\n",
    "l=indices.shape[0]+1\n",
    "#Create Occulsions\n",
    "for q in range(0, l):\n",
    "        \n",
    "    img=ImageOpen()\n",
    "        \n",
    "    img=occulude(img,indices,q)\n",
    "    \n",
    "    # get features for image\n",
    "    image_features = create_features(img)\n",
    "\n",
    "    #print(l)\n",
    "    features_list.append(image_features)\n",
    "        \n",
    "# convert list of arrays into a matrix\n",
    "feature_matrix = np.array(features_list)\n",
    "\n",
    "\n",
    "print('Feature matrix shape is: ', feature_matrix.shape)"
   ]
  },
  {
   "cell_type": "code",
   "execution_count": null,
   "metadata": {},
   "outputs": [],
   "source": [
    "path=\"C:\\\\Users\\\\Maximillian\\\\Desktop\\\\Code Demo\\\\Example\\\\Occulsion\\\\Green\"\n",
    "os.chdir(path)\n",
    "np.save(\"390VesselOcculuded\",feature_matrix)"
   ]
  },
  {
   "cell_type": "code",
   "execution_count": null,
   "metadata": {},
   "outputs": [],
   "source": [
    "#End"
   ]
  }
 ],
 "metadata": {
  "kernelspec": {
   "display_name": "Python 3",
   "language": "python",
   "name": "python3"
  },
  "language_info": {
   "codemirror_mode": {
    "name": "ipython",
    "version": 3
   },
   "file_extension": ".py",
   "mimetype": "text/x-python",
   "name": "python",
   "nbconvert_exporter": "python",
   "pygments_lexer": "ipython3",
   "version": "3.6.9"
  }
 },
 "nbformat": 4,
 "nbformat_minor": 2
}
