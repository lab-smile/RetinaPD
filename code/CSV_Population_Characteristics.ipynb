{
 "cells": [
  {
   "cell_type": "code",
   "execution_count": 2,
   "id": "8807ea65-2d06-48e3-b387-1c38dfa787d3",
   "metadata": {},
   "outputs": [],
   "source": [
    "import cudf\n",
    "import numpy as np\n",
    "import os \n",
    "import shutil\n",
    "import pandas as pd \n",
    "from scipy import stats\n",
    "from scipy.stats import chi2_contingency\n",
    "os.environ[\"CUDA_DEVICE_ORDER\"] = \"PCI_BUS_ID\"\n",
    "os.environ[\"CUDA_VISIBLE_DEVICES\"] = \"4\"\n",
    "# I use rapids 21-12 in Hipergator"
   ]
  },
  {
   "cell_type": "markdown",
   "id": "893b59e3-2699-46d8-ad07-19fed7ebc49b",
   "metadata": {},
   "source": [
    "# 1. Get array of population IDs\n",
    "\n",
    "## PD or HC or subset of PD (prevalent, or incident)"
   ]
  },
  {
   "cell_type": "markdown",
   "id": "d26f2a38-fac5-4b5a-85fb-35ec0444c9b2",
   "metadata": {},
   "source": [
    "# 1.1 Overall PD "
   ]
  },
  {
   "cell_type": "code",
   "execution_count": 2,
   "id": "36041f35-1f03-49bf-b7fc-ec035f4b2db8",
   "metadata": {},
   "outputs": [
    {
     "name": "stdout",
     "output_type": "stream",
     "text": [
      "84\n"
     ]
    }
   ],
   "source": [
    "#PD subjects guaranteede\n",
    "subject_ids = [\"1114277\",\n",
    "\"1178636\",\n",
    "\"1227372\",\n",
    "\"1293346\",\n",
    "\"1328327\",\n",
    "\"1344871\",\n",
    "\"1385201\",\n",
    "\"1448986\",\n",
    "\"1604568\",\n",
    "\"1683568\",\n",
    "\"1686653\",\n",
    "\"1702601\",\n",
    "\"1729129\",\n",
    "\"1779711\",\n",
    "\"1851133\",\n",
    "\"2045185\",\n",
    "\"2063006\",\n",
    "\"2167017\",\n",
    "\"2234655\",\n",
    "\"2253228\",\n",
    "\"2259013\",\n",
    "\"2311988\",\n",
    "\"2517130\",\n",
    "\"2583580\",\n",
    "\"2791680\",\n",
    "\"2890808\",\n",
    "\"2932050\",\n",
    "\"2984777\",\n",
    "\"3033844\",\n",
    "\"3134693\",\n",
    "\"3156084\",\n",
    "\"3198287\",\n",
    "\"3382506\",\n",
    "\"3383380\",\n",
    "\"3391006\",\n",
    "\"3554033\",\n",
    "\"3561789\",\n",
    "\"3568167\",\n",
    "\"3598466\",\n",
    "\"3706056\",\n",
    "\"3756652\",\n",
    "\"3802938\",\n",
    "\"3826232\",\n",
    "\"4011374\",\n",
    "\"4038762\",\n",
    "\"4069794\",\n",
    "\"4127426\",\n",
    "\"4130938\",\n",
    "\"4215662\",\n",
    "\"4244556\",\n",
    "\"4322638\",\n",
    "\"4375090\",\n",
    "\"4415530\",\n",
    "\"4472792\",\n",
    "\"4530859\",\n",
    "\"4532453\",\n",
    "\"4535648\",\n",
    "\"4548991\",\n",
    "\"4614800\",\n",
    "\"4619705\",\n",
    "\"4738821\",\n",
    "\"4751589\",\n",
    "\"4798230\",\n",
    "\"4868455\",\n",
    "\"4907629\",\n",
    "\"5035719\",\n",
    "\"5101325\",\n",
    "\"5157987\",\n",
    "\"5208752\",\n",
    "\"5221906\",\n",
    "\"5229530\",\n",
    "\"5424494\",\n",
    "\"5471094\",\n",
    "\"5527470\",\n",
    "\"5563399\",\n",
    "\"5572442\",\n",
    "\"5640521\",\n",
    "\"5651883\",\n",
    "\"5659619\",\n",
    "\"5749875\",\n",
    "\"5776153\",\n",
    "\"5841706\",\n",
    "\"5861534\",\n",
    "\"5953087\"]\n",
    "\n",
    "print(len(subject_ids))"
   ]
  },
  {
   "cell_type": "markdown",
   "id": "8294be6e-8c58-4e0f-ae00-b3cb1497d4c1",
   "metadata": {},
   "source": [
    "# 1.2 HC "
   ]
  },
  {
   "cell_type": "code",
   "execution_count": 5,
   "id": "383a50f7-dad6-49d0-949b-a72165a59423",
   "metadata": {},
   "outputs": [
    {
     "name": "stdout",
     "output_type": "stream",
     "text": [
      "91\n"
     ]
    }
   ],
   "source": [
    "\n",
    "\n",
    "data_path = '/blue/ruogu.fang/charlietran/PD_Reproduction_V4/data/Raw_Data/PD_prevalent/'\n",
    "\n",
    "subject_ids =[]\n",
    "\n",
    "for file_path in os.listdir(data_path):\n",
    "    subject_ids.append(file_path[0:7])\n",
    "subject_ids = np.unique(subject_ids)\n",
    "\n",
    "print(len(subject_ids), subject_ids)"
   ]
  },
  {
   "cell_type": "markdown",
   "id": "23b649e0-4ecb-4f6d-9e61-f885285b44ad",
   "metadata": {},
   "source": [
    "# 1.3 Prevalent PD"
   ]
  },
  {
   "cell_type": "code",
   "execution_count": 5,
   "id": "1702b366-5a8b-453b-935d-edae1cc88137",
   "metadata": {},
   "outputs": [
    {
     "name": "stdout",
     "output_type": "stream",
     "text": [
      "55 ['1178636' '1227372' '1448986' '1604568' '1683568' '1702601' '1779711'\n",
      " '1851133' '2045185' '2234655' '2253228' '2259013' '2311988' '2517130'\n",
      " '2791680' '2932050' '2984777' '3033844' '3134693' '3156084' '3383380'\n",
      " '3554033' '3561789' '3568167' '3706056' '3756652' '3802938' '3826232'\n",
      " '4011374' '4038762' '4127426' '4130938' '4415530' '4472792' '4530859'\n",
      " '4535648' '4548991' '4619705' '4738821' '4798230' '4907629' '5035719'\n",
      " '5157987' '5208752' '5221906' '5229530' '5471094' '5527470' '5640521'\n",
      " '5651883' '5749875' '5776153' '5841706' '5861534' '5953087']\n"
     ]
    }
   ],
   "source": [
    "data_path = '/blue/ruogu.fang/charlietran/PD_Reproduction_V4/data/Raw_Data/PD_prevalent/'\n",
    "\n",
    "subject_ids =[]\n",
    "\n",
    "for file_path in os.listdir(data_path):\n",
    "    subject_ids.append(file_path[0:7])\n",
    "subject_ids = np.unique(subject_ids)\n",
    "\n",
    "print(len(subject_ids), subject_ids)"
   ]
  },
  {
   "cell_type": "markdown",
   "id": "f812c182-feda-4c0a-a586-fb762d8f9612",
   "metadata": {},
   "source": [
    "# 1.4 Incident PD "
   ]
  },
  {
   "cell_type": "code",
   "execution_count": 6,
   "id": "2e8f0dda-17d0-4eda-b389-77b6f33ff4d7",
   "metadata": {},
   "outputs": [
    {
     "name": "stdout",
     "output_type": "stream",
     "text": [
      "29 ['1114277' '1293346' '1328327' '1344871' '1385201' '1686653' '1729129'\n",
      " '2063006' '2167017' '2583580' '2890808' '3198287' '3382506' '3391006'\n",
      " '3598466' '4069794' '4215662' '4244556' '4322638' '4375090' '4532453'\n",
      " '4614800' '4751589' '4868455' '5101325' '5424494' '5563399' '5572442'\n",
      " '5659619']\n"
     ]
    }
   ],
   "source": [
    "\n",
    "\n",
    "data_path = '/blue/ruogu.fang/charlietran/PD_Reproduction_V4/data/Raw_Data/PD_incident/'\n",
    "\n",
    "subject_ids =[]\n",
    "\n",
    "for file_path in os.listdir(data_path):\n",
    "    subject_ids.append(file_path[0:7])\n",
    "subject_ids = np.unique(subject_ids)\n",
    "\n",
    "print(len(subject_ids), subject_ids)"
   ]
  },
  {
   "cell_type": "markdown",
   "id": "4d395025-75bc-4b66-8731-99a37f4c2dc1",
   "metadata": {},
   "source": [
    "# 2. Use RAPIDS Cudf to read csv and load data statistics"
   ]
  },
  {
   "cell_type": "code",
   "execution_count": 3,
   "id": "3748f952-d1bd-48c3-bb24-dc7eb0dfa277",
   "metadata": {},
   "outputs": [
    {
     "name": "stdout",
     "output_type": "stream",
     "text": [
      "------------------------------------------------------------------------------\n",
      "Townsend Indices\n",
      "Mean of Townsend Indices -1.4788360714285713\n",
      "Standard Deviation of Townsend Indices 2.947206113955094\n",
      "------------------------------------------------------------------------------\n",
      "Stroke History\n",
      "Number of Stroke Subjects 3\n",
      "Number of Non-Stroke Subjects 81\n",
      "------------------------------------------------------------------------------\n",
      "Smoking History\n",
      "Number of Smoking Subjects 30\n",
      "Number of Non-Smoking Subjects 54\n",
      "------------------------------------------------------------------------------\n",
      "Alcohol Status\n",
      "Number of Alcohol Subjects 80\n",
      "Number of Non-Alcohol Subjects 4\n",
      "------------------------------------------------------------------------------\n",
      "Obesity-Diabetes Status\n",
      "Number of Obesity Subjects 18\n",
      "Number of Non-Obesity Subjects 66\n",
      "------------------------------------------------------------------------------\n",
      "Psychotropic Medication\n",
      "Number of Medication Subjects 0\n",
      "Number of Non-Medication Subjects 84\n"
     ]
    }
   ],
   "source": [
    "# \n",
    "\n",
    "\n",
    "csv_dir = '/blue/ruogu.fang/share/RetinaPD/csv/ukb669006.csv'\n",
    "\n",
    "df4 = cudf.read_csv(csv_dir)\n",
    "df4 = df4.loc[df4['eid'].isin(subject_ids)]\n",
    "\n",
    "\n",
    "print('------------------------------------------------------------------------------')\n",
    "print('Townsend Indices')\n",
    "print('Mean of Townsend Indices', df4['189-0.0'].astype('float64').mean())\n",
    "print('Standard Deviation of Townsend Indices', df4['189-0.0'].astype('float64').std())\n",
    "print('------------------------------------------------------------------------------')\n",
    "print('Stroke History')\n",
    "print('Number of Stroke Subjects', df4['42006-0.0'].notnull().sum())\n",
    "print('Number of Non-Stroke Subjects', df4['42006-0.0'].isnull().sum())\n",
    "print('------------------------------------------------------------------------------')\n",
    "print('Smoking History')\n",
    "print('Number of Smoking Subjects', (df4['20116-0.0'].astype('uint8') != 0).sum())\n",
    "print('Number of Non-Smoking Subjects', (df4['20116-0.0'].astype('uint8') == 0).sum())\n",
    "print('------------------------------------------------------------------------------')\n",
    "print('Alcohol Status')\n",
    "print('Number of Alcohol Subjects', (df4['20117-0.0'].astype('uint8') != 0).sum())\n",
    "print('Number of Non-Alcohol Subjects', (df4['20117-0.0'].astype('uint8') == 0).sum())\n",
    "print('------------------------------------------------------------------------------')\n",
    "print('Obesity-Diabetes Status')\n",
    "print('Number of Obesity Subjects', (df4['21001-0.0'].astype('float64') > 30).sum())\n",
    "print('Number of Non-Obesity Subjects', (df4['21001-0.0'].astype('float64') < 30).sum())\n",
    "print('------------------------------------------------------------------------------')\n",
    "print('Psychotropic Medication')\n",
    "print('Number of Medication Subjects', (df4['20466-0.0'].astype('uint8') == 1).sum())\n",
    "print('Number of Non-Medication Subjects', (df4['20466-0.0'].astype('uint8') != 1).sum() \n",
    "      + df4['20466-0.0'].astype('uint8').isnull().sum())\n",
    "\n",
    "#df4.to_csv('/blue/ruogu.fang/charlietran/UKB/csv/PD_characteristics.csv')\n"
   ]
  },
  {
   "cell_type": "code",
   "execution_count": 11,
   "id": "338d30e0-6a75-4c3f-a999-e1fbc6e2ac5e",
   "metadata": {},
   "outputs": [
    {
     "name": "stdout",
     "output_type": "stream",
     "text": [
      "Mean Age: 61.82142857142857\n",
      "Stdev Age: 5.929628920886516\n",
      "----------------------------------------------------------------\n",
      "Number of Males 49 | Percentage  0.5833333333333334\n",
      "Number of Females 35 | Percentage  0.4166666666666667\n",
      "----------------------------------------------------------------\n",
      "Number of White Ethnicity 82  | Percentage  97.61904761904762\n",
      "Number of White Ethnicity 2.0  | Percentage  2.380952380952381\n",
      "----------------------------------------------------------------\n",
      "Mean Visual Acuity 0.28400000000000003\n",
      "Std Visual Acuity 0.3834551314532611\n"
     ]
    }
   ],
   "source": [
    "csv_dir = '/blue/ruogu.fang/share/RetinaPD/csv/ukb52184.csv'\n",
    "\n",
    "df4 = cudf.read_csv(csv_dir)\n",
    "df4 = df4.loc[df4['eid'].isin(subject_ids)]\n",
    "\n",
    "A = df4[['eid', '21003-0.0', '31-0.0', '21000-0.0', '5206-0.0', '5199-0.0',]]\n",
    "A['sum_total'] = A['5206-0.0'].astype('float64') + A['5199-0.0'].astype('float64')\n",
    "\n",
    "print('Mean Age:', A['21003-0.0'].astype('float64').mean())\n",
    "print('Stdev Age:', A['21003-0.0'].astype('float64').std())\n",
    "print('----------------------------------------------------------------')\n",
    "print('Number of Males', (A['31-0.0'].astype('float64') == 1).sum(), '| Percentage ', (A['31-0.0'].astype('float64') == 1).sum() / len(df4))\n",
    "print('Number of Females', (A['31-0.0'].astype('float64') == 0).sum(), '| Percentage ', (A['31-0.0'].astype('float64') == 0).sum() / len(df4))\n",
    "print('----------------------------------------------------------------')\n",
    "print('Number of White Ethnicity',  (A['21000-0.0'].astype('int32') == 1001).sum() + (A['21000-0.0'].astype('int32') == 1002).sum(),\n",
    "     ' | Percentage ', 100* ((A['21000-0.0'].astype('int32') == 1001).sum() + (A['21000-0.0'].astype('int32') == 1002).sum()) / len(df4) \n",
    "     )\n",
    "print('Number of White Ethnicity',  len(df4) - ((A['21000-0.0'].astype('int32') == 1001).sum() + (A['21000-0.0'].astype('int32') == 1002).sum()),\n",
    "     ' | Percentage ', 100* (len(df4) - ((A['21000-0.0'].astype('int32') == 1001).sum() + (A['21000-0.0'].astype('int32') == 1002).sum())) / len(df4)\n",
    "     )\n",
    "print('----------------------------------------------------------------')\n",
    "print('Mean Visual Acuity',  A['sum_total'].mean())\n",
    "print('Std Visual Acuity',  A['sum_total'].std())"
   ]
  },
  {
   "cell_type": "code",
   "execution_count": 12,
   "id": "471ec92f-1e3d-4437-823d-16f12a8c9537",
   "metadata": {},
   "outputs": [
    {
     "name": "stdout",
     "output_type": "stream",
     "text": [
      "Number of Vision Problem Subjects 9.0  | Percentage  10.714285714285714\n",
      "Number of Healthy Vision Subjects 75  | Percentage  89.28571428571429\n"
     ]
    }
   ],
   "source": [
    "csv_dir = '/blue/ruogu.fang/charlietran/UKB/csv/ukb52152.csv'\n",
    "df4 = cudf.read_csv(csv_dir)\n",
    "df4 = df4.loc[df4['eid'].isin(subject_ids)]\n",
    "\n",
    "A = df4[['6148-0.0']]\n",
    "\n",
    "# healthy accounts is\n",
    "\n",
    "print('Number of Vision Problem Subjects', (len(df4) - (A['6148-0.0'].astype('float64').isin([-3, -7, -1]).sum() \n",
    "                                            + A['6148-0.0'].astype('float64').isnull().sum())),\n",
    "     ' | Percentage ', 100 * (len(df4) - (A['6148-0.0'].astype('float64').isin([-3, -7, -1]).sum() \n",
    "                                            + A['6148-0.0'].astype('float64').isnull().sum())) / len(df4))\n",
    "\n",
    "print('Number of Healthy Vision Subjects', (A['6148-0.0'].astype('float64').isin([-3, -7, -1]).sum() \n",
    "                                            + A['6148-0.0'].astype('float64').isnull().sum()),\n",
    "     ' | Percentage ', 100 * (A['6148-0.0'].astype('float64').isin([-3, -7, -1]).sum() \n",
    "                                            + A['6148-0.0'].astype('float64').isnull().sum()) / len(df4))"
   ]
  },
  {
   "cell_type": "code",
   "execution_count": 14,
   "id": "a10ce360-5fa1-47b5-9dab-30e6ccbe88e3",
   "metadata": {},
   "outputs": [
    {
     "name": "stdout",
     "output_type": "stream",
     "text": [
      "pvalue 0.2766503035738431\n"
     ]
    },
    {
     "data": {
      "text/plain": [
       "array([[ 1.89285714,  1.10714286],\n",
       "       [51.10714286, 29.89285714]])"
      ]
     },
     "execution_count": 14,
     "metadata": {},
     "output_type": "execute_result"
    }
   ],
   "source": [
    "from scipy.stats import chi2_contingency\n",
    "\n",
    "yes = np.array([1, 2])\n",
    "no = np.array([52, 29])\n",
    "\n",
    "obs = obs = np.vstack([yes, no])\n",
    "chi, p, _, expected = chi2_contingency(obs, correction = False)\n",
    "print('pvalue', p)\n",
    "expected\n",
    "#_, p _, _ = chi2_contingency(true_obs, false_obs)\n",
    "#p\n"
   ]
  },
  {
   "cell_type": "markdown",
   "id": "97287f13-4a04-4bb0-8774-24babf57b9f2",
   "metadata": {},
   "source": [
    "# Dates of Diagnoses and Visit Dates"
   ]
  },
  {
   "cell_type": "code",
   "execution_count": 54,
   "id": "737749f7-17f8-42ee-af0d-ca23c64a70e9",
   "metadata": {},
   "outputs": [],
   "source": [
    "csv_dir = '/blue/ruogu.fang/charlietran/UKB/csv/ukb52164.csv'\n",
    "df4 = cudf.read_csv(csv_dir)\n",
    "df4 = df4.loc[df4['eid'].isin(subject_ids)]\n",
    "\n",
    "#A = df4[['6148-0.0']]\n",
    "\n",
    "df4 = df4[['eid', '53-0.0']]\n",
    "\n",
    "csv_dir = '/blue/ruogu.fang/share/RetinaPD/csv/ukb37849.csv'\n",
    "df5 = cudf.read_csv(csv_dir)\n",
    "df5 = df5.loc[df5['eid'].isin(subject_ids)]\n",
    "\n",
    "#A = df4[['6148-0.0']]\n",
    "\n",
    "#df4[['53-0.0', '42032-0.0']]\n",
    "df5 = df5[['eid', '42032-0.0']]\n",
    "\n",
    "df6 = cudf.merge(df4, df5, on =\"eid\")\n",
    "df6 = df6.sort_values(by = ['eid'])\n",
    "\n",
    "#df6.to_csv('/blue/ruogu.fang/charlietran/PD_Reproduction_V2/results/Prevalent_PD_Dates.csv')"
   ]
  },
  {
   "cell_type": "code",
   "execution_count": 55,
   "id": "373a32b3-107d-4d48-8ab0-2fcaad94cd71",
   "metadata": {},
   "outputs": [
    {
     "data": {
      "text/html": [
       "<div>\n",
       "<style scoped>\n",
       "    .dataframe tbody tr th:only-of-type {\n",
       "        vertical-align: middle;\n",
       "    }\n",
       "\n",
       "    .dataframe tbody tr th {\n",
       "        vertical-align: top;\n",
       "    }\n",
       "\n",
       "    .dataframe thead th {\n",
       "        text-align: right;\n",
       "    }\n",
       "</style>\n",
       "<table border=\"1\" class=\"dataframe\">\n",
       "  <thead>\n",
       "    <tr style=\"text-align: right;\">\n",
       "      <th></th>\n",
       "      <th>eid</th>\n",
       "      <th>42032-0.0</th>\n",
       "    </tr>\n",
       "  </thead>\n",
       "  <tbody>\n",
       "    <tr>\n",
       "      <th>8320</th>\n",
       "      <td>1956515</td>\n",
       "      <td>&lt;NA&gt;</td>\n",
       "    </tr>\n",
       "    <tr>\n",
       "      <th>9061</th>\n",
       "      <td>5810422</td>\n",
       "      <td>&lt;NA&gt;</td>\n",
       "    </tr>\n",
       "    <tr>\n",
       "      <th>16983</th>\n",
       "      <td>2950751</td>\n",
       "      <td>&lt;NA&gt;</td>\n",
       "    </tr>\n",
       "    <tr>\n",
       "      <th>27317</th>\n",
       "      <td>1300508</td>\n",
       "      <td>&lt;NA&gt;</td>\n",
       "    </tr>\n",
       "    <tr>\n",
       "      <th>45693</th>\n",
       "      <td>5208893</td>\n",
       "      <td>&lt;NA&gt;</td>\n",
       "    </tr>\n",
       "    <tr>\n",
       "      <th>...</th>\n",
       "      <td>...</td>\n",
       "      <td>...</td>\n",
       "    </tr>\n",
       "    <tr>\n",
       "      <th>461524</th>\n",
       "      <td>2873857</td>\n",
       "      <td>&lt;NA&gt;</td>\n",
       "    </tr>\n",
       "    <tr>\n",
       "      <th>462259</th>\n",
       "      <td>2341415</td>\n",
       "      <td>&lt;NA&gt;</td>\n",
       "    </tr>\n",
       "    <tr>\n",
       "      <th>474070</th>\n",
       "      <td>1855467</td>\n",
       "      <td>&lt;NA&gt;</td>\n",
       "    </tr>\n",
       "    <tr>\n",
       "      <th>476662</th>\n",
       "      <td>5602865</td>\n",
       "      <td>&lt;NA&gt;</td>\n",
       "    </tr>\n",
       "    <tr>\n",
       "      <th>494482</th>\n",
       "      <td>3821117</td>\n",
       "      <td>&lt;NA&gt;</td>\n",
       "    </tr>\n",
       "  </tbody>\n",
       "</table>\n",
       "<p>91 rows × 2 columns</p>\n",
       "</div>"
      ],
      "text/plain": [
       "            eid 42032-0.0\n",
       "8320    1956515      <NA>\n",
       "9061    5810422      <NA>\n",
       "16983   2950751      <NA>\n",
       "27317   1300508      <NA>\n",
       "45693   5208893      <NA>\n",
       "...         ...       ...\n",
       "461524  2873857      <NA>\n",
       "462259  2341415      <NA>\n",
       "474070  1855467      <NA>\n",
       "476662  5602865      <NA>\n",
       "494482  3821117      <NA>\n",
       "\n",
       "[91 rows x 2 columns]"
      ]
     },
     "execution_count": 55,
     "metadata": {},
     "output_type": "execute_result"
    }
   ],
   "source": [
    "df5"
   ]
  },
  {
   "cell_type": "code",
   "execution_count": 55,
   "id": "dad8e8c1-0d98-4e74-a0a2-32dea7a72a59",
   "metadata": {},
   "outputs": [],
   "source": [
    "csv_dir = '/blue/ruogu.fang/charlietran/UKB/csv/ukb52164.csv'\n",
    "df4 = cudf.read_csv(csv_dir)\n",
    "df4 = df4.loc[df4['eid'].isin(subject_ids)]\n",
    "\n",
    "#A = df4[['6148-0.0']]\n",
    "\n",
    "df4 = df4[['eid', '53-0.0', '21003-0.0', '21003-1.0']]\n",
    "\n",
    "csv_dir = '/blue/ruogu.fang/share/RetinaPD/csv/ukb37849.csv'\n",
    "df5 = cudf.read_csv(csv_dir)\n",
    "df5 = df5.loc[df5['eid'].isin(subject_ids)]\n",
    "\n",
    "#A = df4[['6148-0.0']]\n",
    "\n",
    "#df4[['53-0.0', '42032-0.0']]\n",
    "df5 = df5[['eid', '42030-0.0']]\n",
    "\n",
    "df6 = cudf.merge(df4, df5, on =\"eid\")\n",
    "df6 = df6.sort_values(by = ['eid'])\n",
    "\n",
    "df6.to_csv('/blue/ruogu.fang/charlietran/PD_Reproduction_V2/results/Incident_PD_Dates.csv')"
   ]
  },
  {
   "cell_type": "code",
   "execution_count": 3,
   "id": "1914c60d-c940-42b9-8b9e-40c7cb3b77aa",
   "metadata": {},
   "outputs": [],
   "source": [
    "# OVERALL PARKINSON\"S DISEASE\n",
    "subject_ids = [\"1114277\",\n",
    "\"1178636\",\n",
    "\"1227372\",\n",
    "\"1293346\",\n",
    "\"1328327\",\n",
    "\"1344871\",\n",
    "\"1385201\",\n",
    "\"1448986\",\n",
    "\"1604568\",\n",
    "\"1683568\",\n",
    "\"1686653\",\n",
    "\"1702601\",\n",
    "\"1729129\",\n",
    "\"1779711\",\n",
    "\"1851133\",\n",
    "\"2045185\",\n",
    "\"2063006\",\n",
    "\"2167017\",\n",
    "\"2234655\",\n",
    "\"2253228\",\n",
    "\"2259013\",\n",
    "\"2311988\",\n",
    "\"2517130\",\n",
    "\"2583580\",\n",
    "\"2791680\",\n",
    "\"2890808\",\n",
    "\"2932050\",\n",
    "\"2984777\",\n",
    "\"3033844\",\n",
    "\"3134693\",\n",
    "\"3156084\",\n",
    "\"3198287\",\n",
    "\"3382506\",\n",
    "\"3383380\",\n",
    "\"3391006\",\n",
    "\"3554033\",\n",
    "\"3561789\",\n",
    "\"3568167\",\n",
    "\"3598466\",\n",
    "\"3706056\",\n",
    "\"3756652\",\n",
    "\"3802938\",\n",
    "\"3826232\",\n",
    "\"4011374\",\n",
    "\"4038762\",\n",
    "\"4069794\",\n",
    "\"4127426\",\n",
    "\"4130938\",\n",
    "\"4215662\",\n",
    "\"4244556\",\n",
    "\"4322638\",\n",
    "\"4375090\",\n",
    "\"4415530\",\n",
    "\"4472792\",\n",
    "\"4530859\",\n",
    "\"4532453\",\n",
    "\"4535648\",\n",
    "\"4548991\",\n",
    "\"4614800\",\n",
    "\"4619705\",\n",
    "\"4738821\",\n",
    "\"4751589\",\n",
    "\"4798230\",\n",
    "\"4868455\",\n",
    "\"4907629\",\n",
    "\"5035719\",\n",
    "\"5101325\",\n",
    "\"5157987\",\n",
    "\"5208752\",\n",
    "\"5221906\",\n",
    "\"5229530\",\n",
    "\"5424494\",\n",
    "\"5471094\",\n",
    "\"5527470\",\n",
    "\"5563399\",\n",
    "\"5572442\",\n",
    "\"5640521\",\n",
    "\"5651883\",\n",
    "\"5659619\",\n",
    "\"5749875\",\n",
    "\"5776153\",\n",
    "\"5841706\",\n",
    "\"5861534\",\n",
    "\"5953087\"]\n",
    "\n",
    "\n",
    "csv_dir = '/blue/ruogu.fang/charlietran/UKB/csv/ukb52164.csv'\n",
    "df4 = cudf.read_csv(csv_dir)\n",
    "df4 = df4.loc[df4['eid'].isin(subject_ids)]\n",
    "\n",
    "#A = df4[['6148-0.0']]\n",
    "\n",
    "df4 = df4[['eid', '53-0.0', '21003-0.0', '21003-1.0']]\n",
    "\n",
    "csv_dir = '/blue/ruogu.fang/share/RetinaPD/csv/ukb37849.csv'\n",
    "df5 = cudf.read_csv(csv_dir)\n",
    "df5 = df5.loc[df5['eid'].isin(subject_ids)]\n",
    "\n",
    "#A = df4[['6148-0.0']]\n",
    "\n",
    "#df4[['53-0.0', '42032-0.0']]\n",
    "df5 = df5[['eid', '42030-0.0']]\n",
    "\n",
    "df6 = cudf.merge(df4, df5, on =\"eid\")\n",
    "df6 = df6.sort_values(by = ['eid'])\n",
    "\n",
    "df6.to_csv('/blue/ruogu.fang/charlietran/PD_Reproduction_V2/results/OVERALL_PD_Dates.csv')"
   ]
  },
  {
   "cell_type": "code",
   "execution_count": 4,
   "id": "0f72ebdb-7879-4af7-9d08-9a64e5a1b64e",
   "metadata": {},
   "outputs": [],
   "source": [
    "# OVERALL PARKINSON\"S DISEASE\n",
    "subject_ids = [\"1034220\",\n",
    "\"1112794\",\n",
    "\"1136758\",\n",
    "\"1143056\",\n",
    "\"1207549\",\n",
    "\"1291253\",\n",
    "\"1300508\",\n",
    "\"1338245\",\n",
    "\"1385711\",\n",
    "\"1445308\",\n",
    "\"1454985\",\n",
    "\"1463230\",\n",
    "\"1523027\",\n",
    "\"1523223\",\n",
    "\"1555296\",\n",
    "\"1558677\",\n",
    "\"1561855\",\n",
    "\"1562567\",\n",
    "\"1578746\",\n",
    "\"1605541\",\n",
    "\"1619489\",\n",
    "\"1646019\",\n",
    "\"1714891\",\n",
    "\"1743307\",\n",
    "\"1756582\",\n",
    "\"1762289\",\n",
    "\"1786145\",\n",
    "\"1823712\",\n",
    "\"1855467\",\n",
    "\"1956515\",\n",
    "\"1991498\",\n",
    "\"1998264\",\n",
    "\"2003452\",\n",
    "\"2005964\",\n",
    "\"2022296\",\n",
    "\"2054405\",\n",
    "\"2100562\",\n",
    "\"2252178\",\n",
    "\"2317118\",\n",
    "\"2325512\",\n",
    "\"2338505\",\n",
    "\"2341415\",\n",
    "\"2518197\",\n",
    "\"2558526\",\n",
    "\"2573039\",\n",
    "\"2682558\",\n",
    "\"2747870\",\n",
    "\"2770153\",\n",
    "\"2770564\",\n",
    "\"2789351\",\n",
    "\"2819601\",\n",
    "\"2822488\",\n",
    "\"2848575\",\n",
    "\"2873857\",\n",
    "\"2923883\",\n",
    "\"2950751\",\n",
    "\"3056090\",\n",
    "\"3214958\",\n",
    "\"3247304\",\n",
    "\"3486864\",\n",
    "\"3573739\",\n",
    "\"3595368\",\n",
    "\"3687402\",\n",
    "\"3821117\",\n",
    "\"3850168\",\n",
    "\"3943027\",\n",
    "\"3946341\",\n",
    "\"3963896\",\n",
    "\"4001612\",\n",
    "\"4287033\",\n",
    "\"4356152\",\n",
    "\"4528562\",\n",
    "\"4627046\",\n",
    "\"4652340\",\n",
    "\"4754281\",\n",
    "\"4855507\",\n",
    "\"4959352\",\n",
    "\"5168495\",\n",
    "\"5208893\",\n",
    "\"5286204\",\n",
    "\"5318943\",\n",
    "\"5394841\",\n",
    "\"5444877\",\n",
    "\"5462419\",\n",
    "\"5602865\",\n",
    "\"5623257\",\n",
    "\"5745206\",\n",
    "\"5749166\",\n",
    "\"5810422\",\n",
    "\"5887044\",\n",
    "\"5955668\"]\n",
    "\n",
    "\n",
    "csv_dir = '/blue/ruogu.fang/charlietran/UKB/csv/ukb52164.csv'\n",
    "df4 = cudf.read_csv(csv_dir)\n",
    "df4 = df4.loc[df4['eid'].isin(subject_ids)]\n",
    "\n",
    "#A = df4[['6148-0.0']]\n",
    "\n",
    "df4 = df4[['eid', '53-0.0', '21003-0.0', '21003-1.0']]\n",
    "\n",
    "csv_dir = '/blue/ruogu.fang/share/RetinaPD/csv/ukb37849.csv'\n",
    "df5 = cudf.read_csv(csv_dir)\n",
    "df5 = df5.loc[df5['eid'].isin(subject_ids)]\n",
    "\n",
    "#A = df4[['6148-0.0']]\n",
    "\n",
    "#df4[['53-0.0', '42032-0.0']]\n",
    "df5 = df5[['eid', '42030-0.0']]\n",
    "\n",
    "df6 = cudf.merge(df4, df5, on =\"eid\")\n",
    "df6 = df6.sort_values(by = ['eid'])\n",
    "\n",
    "df6.to_csv('/blue/ruogu.fang/charlietran/PD_Reproduction_V2/results/OVERALL_HC_Dates.csv')"
   ]
  },
  {
   "cell_type": "code",
   "execution_count": null,
   "id": "c0a1cb75-330a-44a9-9f35-08468beed67c",
   "metadata": {},
   "outputs": [],
   "source": [
    "## Get all information directly from this \n",
    "\n",
    "path = '/blue/ruogu.fang/charlietran/PD_Reproduction_V2/data/Raw_Data/PD/\n",
    "files = os.listdir(path) \n",
    "csv_0 = '/blue/ruogu.fang/charlietran/UKB/csv/ukb52164.csv'\n",
    "csv_1 = '/blue/ruogu.fang/share/RetinaPD/csv/ukb37849.csv'\n",
    "\n",
    "for i in range(len(os.listdir(path))\n",
    "    with open(os.path.join(args.project_dir, 'results', 'PD_characteristics.csv'), 'a') as file:\n",
    "\n",
    "       \n",
    "               \n",
    "        subject_id = \n",
    "        writer = csv.writer(file, delimiter=',')\n",
    "        writer.writerow([\n",
    "                    \n",
    "                    \n",
    "                    ])\n",
    "    "
   ]
  },
  {
   "cell_type": "code",
   "execution_count": 3,
   "id": "ca930120-de0f-4457-86fe-017a826c41b8",
   "metadata": {},
   "outputs": [
    {
     "name": "stdout",
     "output_type": "stream",
     "text": [
      "Starting\n"
     ]
    },
    {
     "name": "stderr",
     "output_type": "stream",
     "text": [
      "/apps/rapidsai/21.12/lib/python3.8/site-packages/cudf/core/frame.py:3086: FutureWarning: Calling take with a boolean array is deprecated and will be removed in the future.\n",
      "  warnings.warn(\n"
     ]
    },
    {
     "name": "stdout",
     "output_type": "stream",
     "text": [
      "Done\n"
     ]
    }
   ],
   "source": [
    "import csv\n",
    "import time \n",
    "from datetime import date\n",
    "\n",
    "print('Starting')\n",
    "path = '/blue/ruogu.fang/charlietran/PD_Reproduction_V2/data/Raw_Data/PD/'\n",
    "csv_0 = '/blue/ruogu.fang/share/RetinaPD/csv/ukb52164.csv'\n",
    "csv_1 = '/blue/ruogu.fang/share/RetinaPD/csv/ukb37849.csv'\n",
    "df4 = cudf.read_csv(csv_0)\n",
    "df5 = cudf.read_csv(csv_1)\n",
    "files = sorted(os.listdir(path))\n",
    "\n",
    "# Start the top line of the csv\n",
    "with open(os.path.join('/blue/ruogu.fang/charlietran/PD_Reproduction_V2/', 'results', 'PD_characteristics_V2.csv'), 'a') as file:\n",
    "    writer = csv.writer(file, delimiter=',')\n",
    "    writer.writerow(['Image',\n",
    "                     'ID', \n",
    "                     'Age',\n",
    "                     'Assessment_Date',\n",
    "                     'Diagnosis_Date',\n",
    "                     'Delta_Days',\n",
    "                     'Delta_Months',\n",
    "                     'Delta_Years',\n",
    "                     'CATEGORY',\n",
    "                    ])\n",
    "for img in files:\n",
    "    subject_eid = img[0:7]\n",
    "    with open(os.path.join('/blue/ruogu.fang/charlietran/PD_Reproduction_V2/', 'results', 'PD_characteristics_V2.csv'), 'a') as file:\n",
    "        df6 = df4.loc[df4['eid'] == subject_eid]\n",
    "        df6 = df6[['eid', '53-0.0', '53-1.0', '21003-0.0', '21003-1.0']]\n",
    "\n",
    "        df7 = df5.loc[df5['eid'] == subject_eid]\n",
    "        df7 = df7[['eid', '42032-0.0']]\n",
    "\n",
    "        \n",
    "        if img[8:17] == '21015_0_0' or img[8:17] == '21016_0_0':\n",
    "            visit_date = df6['53-0.0'].to_numpy().item()\n",
    "            age = df6['21003-0.0'].to_numpy().item()\n",
    "            diagnosis_date = df7['42032-0.0'].to_numpy().item()         \n",
    "    \n",
    "            newdate1 = time.strptime(visit_date, \"%Y-%m-%d\")\n",
    "            newdate2 = time.strptime(diagnosis_date, \"%Y-%m-%d\")\n",
    "            \n",
    "            format_date_visit = date(newdate1.tm_year, newdate1.tm_mon, newdate1.tm_mday)\n",
    "            format_date_diag = date(newdate2.tm_year, newdate2.tm_mon, newdate2.tm_mday)\n",
    "            \n",
    "        \n",
    "        elif img[8:17] == '21015_1_0' or img[8:17] == '21016_1_0':\n",
    "            visit_date = df6['53-1.0'].to_numpy().item()\n",
    "            age = df6['21003-1.0'].to_numpy().item()\n",
    "            diagnosis_date = df7['42032-0.0'].to_numpy().item()\n",
    "            newdate1 = time.strptime(visit_date, \"%Y-%m-%d\")\n",
    "            newdate2 = time.strptime(diagnosis_date, \"%Y-%m-%d\")\n",
    "            \n",
    "            format_date_visit = date(newdate1.tm_year, newdate1.tm_mon, newdate1.tm_mday)\n",
    "            format_date_diag = date(newdate2.tm_year, newdate2.tm_mon, newdate2.tm_mday)  \n",
    "            \n",
    "        if newdate1 >= newdate2: # If the visit date is after the date of assessment then make this positive, this is prevalent\n",
    "            delta_days = -(format_date_visit - format_date_diag).days  \n",
    "            delta_years = -(format_date_visit - format_date_diag).days / 365\n",
    "            delta_months = delta_years * 12 \n",
    "            tag = 'PREVALENT'\n",
    "        elif newdate1 < newdate2: #If the visit date is before the date of assessment (we will call this incident PD) \n",
    "            delta_days = -(format_date_visit - format_date_diag).days  \n",
    "            delta_years = -(format_date_visit - format_date_diag).days / 365\n",
    "            delta_months = delta_years * 12 \n",
    "            tag = 'INCIDENT'\n",
    "        writer = csv.writer(file, delimiter=',')\n",
    "        writer.writerow([img, \n",
    "                         subject_eid, \n",
    "                         age,\n",
    "                         visit_date,\n",
    "                         diagnosis_date,\n",
    "                         delta_days,\n",
    "                         delta_months,\n",
    "                         delta_years,\n",
    "                         tag,\n",
    "                        ])\n",
    "print('Done')"
   ]
  },
  {
   "cell_type": "code",
   "execution_count": 170,
   "id": "c1914a8b-a32e-4a56-a07f-9492d6410df5",
   "metadata": {},
   "outputs": [
    {
     "data": {
      "text/plain": [
       "time.struct_time(tm_year=2015, tm_mon=12, tm_mday=31, tm_hour=0, tm_min=0, tm_sec=0, tm_wday=3, tm_yday=365, tm_isdst=-1)"
      ]
     },
     "execution_count": 170,
     "metadata": {},
     "output_type": "execute_result"
    }
   ],
   "source": [
    "import time\n",
    "date1 = \"2015/12/31\"\n",
    "date2 = \"2016/01/01\"\n",
    "newdate1 = time.strptime(date1, \"%Y/%m/%d\")\n",
    "newdate2 = time.strptime(date2, \"%Y/%m/%d\")\n",
    "newdate1"
   ]
  },
  {
   "cell_type": "code",
   "execution_count": 184,
   "id": "fb8c0115-eaba-4534-a47a-b42c59a0917b",
   "metadata": {},
   "outputs": [
    {
     "data": {
      "text/plain": [
       "time.struct_time(tm_year=2010, tm_mon=6, tm_mday=2, tm_hour=0, tm_min=0, tm_sec=0, tm_wday=2, tm_yday=153, tm_isdst=-1)"
      ]
     },
     "execution_count": 184,
     "metadata": {},
     "output_type": "execute_result"
    }
   ],
   "source": [
    "newdate1"
   ]
  },
  {
   "cell_type": "code",
   "execution_count": 153,
   "id": "048ee5ee-7916-47e8-a31a-5bec201c9002",
   "metadata": {},
   "outputs": [
    {
     "data": {
      "text/plain": [
       "'21015_0_0'"
      ]
     },
     "execution_count": 153,
     "metadata": {},
     "output_type": "execute_result"
    }
   ],
   "source": [
    "img[8:17]"
   ]
  },
  {
   "cell_type": "code",
   "execution_count": 141,
   "id": "002eacce-7262-4a21-b1db-68f03427670f",
   "metadata": {},
   "outputs": [
    {
     "ename": "ValueError",
     "evalue": "can only convert an array of size 1 to a Python scalar",
     "output_type": "error",
     "traceback": [
      "\u001b[0;31m---------------------------------------------------------------------------\u001b[0m",
      "\u001b[0;31mValueError\u001b[0m                                Traceback (most recent call last)",
      "Input \u001b[0;32mIn [142]\u001b[0m, in \u001b[0;36m<module>\u001b[0;34m\u001b[0m\n\u001b[0;32m----> 1\u001b[0m \u001b[43mdf6\u001b[49m\u001b[38;5;241;43m.\u001b[39;49m\u001b[43miloc\u001b[49m\u001b[43m[\u001b[49m\u001b[38;5;241;43m1\u001b[39;49m\u001b[43m]\u001b[49m\u001b[38;5;241;43m.\u001b[39;49m\u001b[43mto_numpy\u001b[49m\u001b[43m(\u001b[49m\u001b[43m)\u001b[49m\u001b[38;5;241;43m.\u001b[39;49m\u001b[43mitem\u001b[49m\u001b[43m(\u001b[49m\u001b[43m)\u001b[49m\n",
      "\u001b[0;31mValueError\u001b[0m: can only convert an array of size 1 to a Python scalar"
     ]
    }
   ],
   "source": [
    "df6.eid.to_numpy().item()"
   ]
  },
  {
   "cell_type": "code",
   "execution_count": 147,
   "id": "3a088cdc-94b7-4b69-bf14-7386cf79741d",
   "metadata": {},
   "outputs": [
    {
     "data": {
      "text/plain": [
       "'68'"
      ]
     },
     "execution_count": 147,
     "metadata": {},
     "output_type": "execute_result"
    }
   ],
   "source": [
    "df6['21003-0.0'].to_numpy().item()"
   ]
  },
  {
   "cell_type": "code",
   "execution_count": 179,
   "id": "0c8f9ec4-b9af-499e-b039-5d0b5b72321f",
   "metadata": {},
   "outputs": [
    {
     "data": {
      "text/plain": [
       "'2010'"
      ]
     },
     "execution_count": 179,
     "metadata": {},
     "output_type": "execute_result"
    }
   ],
   "source": [
    "df6['53-0.0'].to_numpy().item()[0:4]"
   ]
  },
  {
   "cell_type": "code",
   "execution_count": null,
   "id": "8d2499e4-427c-472c-836d-22b5f920aada",
   "metadata": {},
   "outputs": [],
   "source": []
  }
 ],
 "metadata": {
  "kernelspec": {
   "display_name": "RAPIDSai-21.12",
   "language": "python",
   "name": "rapidsai-21.12"
  },
  "language_info": {
   "codemirror_mode": {
    "name": "ipython",
    "version": 3
   },
   "file_extension": ".py",
   "mimetype": "text/x-python",
   "name": "python",
   "nbconvert_exporter": "python",
   "pygments_lexer": "ipython3",
   "version": "3.8.12"
  }
 },
 "nbformat": 4,
 "nbformat_minor": 5
}
