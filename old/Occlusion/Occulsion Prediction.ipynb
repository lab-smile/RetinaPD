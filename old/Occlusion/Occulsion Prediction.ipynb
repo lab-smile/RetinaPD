{
 "cells": [
  {
   "cell_type": "code",
   "execution_count": 1,
   "metadata": {},
   "outputs": [],
   "source": [
    "import os\n",
    "\n",
    "import matplotlib as mpl\n",
    "import matplotlib.pyplot as plt\n",
    "from IPython.display import display\n",
    "%matplotlib inline\n",
    "\n",
    "import pandas as pd\n",
    "import numpy as np\n",
    "\n",
    "from PIL import Image\n",
    "from resizeimage import resizeimage\n",
    "\n",
    "from skimage.feature import hog\n",
    "from skimage.color import rgb2grey\n",
    "\n",
    "from sklearn.model_selection import train_test_split\n",
    "from sklearn.metrics import accuracy_score\n",
    "\n",
    "from sklearn.preprocessing import StandardScaler\n",
    "from sklearn.decomposition import PCA\n",
    "from sklearn.svm import SVC\n",
    "\n",
    "from sklearn.metrics import roc_curve, auc"
   ]
  },
  {
   "cell_type": "code",
   "execution_count": 2,
   "metadata": {},
   "outputs": [],
   "source": [
    "def Scalar(feature_matrix):\n",
    "    # define standard scaler\n",
    "    ss = StandardScaler()\n",
    "    # run this on our feature matrix\n",
    "    images_stand = ss.fit_transform(feature_matrix)\n",
    "\n",
    "    pca = PCA(n_components=500)\n",
    "    # use fit_transform to run PCA on our standardized matrix\n",
    "    images_pca = ss.fit_transform(images_stand)\n",
    "    # look at new shape\n",
    "    print('PCA matrix shape is: ', images_pca.shape)\n",
    "    X = pd.DataFrame(images_pca)\n",
    "    \n",
    "    return X"
   ]
  },
  {
   "cell_type": "code",
   "execution_count": null,
   "metadata": {},
   "outputs": [],
   "source": []
  },
  {
   "cell_type": "code",
   "execution_count": 3,
   "metadata": {},
   "outputs": [],
   "source": [
    "path=\"C:\\\\Users\\\\Maximillian\\\\Desktop\\\\Code Demo\\\\Example\\\\Occulsion\\\\Green\"\n",
    "\n",
    "os.chdir(path)"
   ]
  },
  {
   "cell_type": "code",
   "execution_count": 4,
   "metadata": {},
   "outputs": [
    {
     "data": {
      "text/plain": [
       "(4996, 176400)"
      ]
     },
     "execution_count": 4,
     "metadata": {},
     "output_type": "execute_result"
    }
   ],
   "source": [
    "A=np.load(\"390VesselOcculuded.npy\")\n",
    "A.shape"
   ]
  },
  {
   "cell_type": "code",
   "execution_count": 5,
   "metadata": {},
   "outputs": [
    {
     "name": "stdout",
     "output_type": "stream",
     "text": [
      "PCA matrix shape is:  (2498, 176400)\n"
     ]
    }
   ],
   "source": [
    "#Let the index of A be from 0 to A.shape[0]/2\n",
    "B=A[0:2498]\n",
    "B=Scalar(B)"
   ]
  },
  {
   "cell_type": "code",
   "execution_count": 6,
   "metadata": {},
   "outputs": [
    {
     "name": "stdout",
     "output_type": "stream",
     "text": [
      "PCA matrix shape is:  (2498, 176400)\n"
     ]
    }
   ],
   "source": [
    "#Let the index of A be from A.shape[0]/2 to A.shape[0]+1\n",
    "C=A[2498:4997]\n",
    "C=Scalar(C)"
   ]
  },
  {
   "cell_type": "code",
   "execution_count": null,
   "metadata": {},
   "outputs": [],
   "source": []
  },
  {
   "cell_type": "code",
   "execution_count": 7,
   "metadata": {},
   "outputs": [],
   "source": [
    "#Change path to be the location of the SVM pickle\n",
    "os.chdir(\"C:\\\\Users\\\\Maximillian\\\\Desktop\\\\Code Demo\\\\Example\\\\Pickles\")"
   ]
  },
  {
   "cell_type": "code",
   "execution_count": 8,
   "metadata": {},
   "outputs": [
    {
     "name": "stderr",
     "output_type": "stream",
     "text": [
      "C:\\Users\\Maximillian\\Anaconda3\\lib\\site-packages\\sklearn\\externals\\joblib\\__init__.py:15: DeprecationWarning: sklearn.externals.joblib is deprecated in 0.21 and will be removed in 0.23. Please import this functionality directly from joblib, which can be installed with: pip install joblib. If this warning is raised when loading pickled models, you may need to re-serialize those models with scikit-learn 0.21+.\n",
      "  warnings.warn(msg, category=DeprecationWarning)\n"
     ]
    }
   ],
   "source": [
    "from sklearn.externals import joblib\n",
    "\n",
    "# Load the model from the file \n",
    "svm = joblib.load('GreenLinear.pkl') "
   ]
  },
  {
   "cell_type": "code",
   "execution_count": null,
   "metadata": {},
   "outputs": [],
   "source": []
  },
  {
   "cell_type": "code",
   "execution_count": null,
   "metadata": {},
   "outputs": [],
   "source": [
    "#The following steps may take time"
   ]
  },
  {
   "cell_type": "code",
   "execution_count": 9,
   "metadata": {},
   "outputs": [
    {
     "name": "stdout",
     "output_type": "stream",
     "text": [
      "First Half Done\n",
      "Second Half Done\n"
     ]
    }
   ],
   "source": [
    "ProbsB=svm.predict_proba(B)\n",
    "print('First Half Done')\n",
    "ProbsC=svm.predict_proba(C)\n",
    "print('Second Half Done')"
   ]
  },
  {
   "cell_type": "code",
   "execution_count": 10,
   "metadata": {},
   "outputs": [
    {
     "data": {
      "text/plain": [
       "(4996, 2)"
      ]
     },
     "execution_count": 10,
     "metadata": {},
     "output_type": "execute_result"
    }
   ],
   "source": [
    "Q=np.concatenate((ProbsB,ProbsC),axis=0)\n",
    "Q.shape"
   ]
  },
  {
   "cell_type": "code",
   "execution_count": 11,
   "metadata": {},
   "outputs": [],
   "source": [
    "os.chdir(path)\n",
    "np.save(\"390GreenLinearPDProb\",Q)"
   ]
  },
  {
   "cell_type": "code",
   "execution_count": null,
   "metadata": {},
   "outputs": [],
   "source": []
  },
  {
   "cell_type": "code",
   "execution_count": null,
   "metadata": {},
   "outputs": [],
   "source": [
    "# The follow is a method for running the above code in a single cell with limited edits. Note it has not been fully developed."
   ]
  },
  {
   "cell_type": "code",
   "execution_count": null,
   "metadata": {},
   "outputs": [],
   "source": [
    "channel='Green'\n",
    "kernel='RBF'\n",
    "image='390'\n",
    "\n",
    "def predictProbs():\n",
    "    #Go to location of saved occulsion files\n",
    "    path='C:\\\\Users\\\\Maximillian\\\\Desktop\\\\Code Demo\\\\Example\\\\Occulsion\\\\' #+channel\n",
    "    os.chdir(path)\n",
    "    \n",
    "    #Open Occuled Image\n",
    "    file_name=image+'VesselOcculuded.npy'\n",
    "    A=np.load(file_name)\n",
    "    return(A)\n",
    "    \n",
    "def finalize(half,final,A,channel, kernel,image):\n",
    "    B=A[0:half]\n",
    "    B=Scalar(B)\n",
    "    \n",
    "    C=A[half:final]\n",
    "    C=Scalar(C)\n",
    "    \n",
    "    #Pickle Locations\n",
    "    os.chdir('C:\\\\Users\\\\Maximillian\\\\Desktop\\\\Code Demo\\\\Example\\\\Occulsion')\n",
    "    \n",
    "    # Load the model from the file \n",
    "    pickle_name=channel+kernel+'.pkl'\n",
    "    svm = joblib.load(pickle_name) \n",
    "    \n",
    "    ProbsB=svm.predict_proba(B)\n",
    "    print('391 is Done')\n",
    "    ProbsC=svm.predict_proba(C)\n",
    "    print('406 is Done')\n",
    "    \n",
    "    Q=np.concatenate((ProbsB,ProbsC),axis=0)\n",
    "    Q.shape\n",
    "    \n",
    "    path='C:\\\\Users\\\\Maximillian\\\\Desktop\\\\Code Demo\\\\Example\\\\Occulsion' #+channel\n",
    "    os.chdir(path)\n",
    "    save_name=image+channel+kernel+'PDProb'\n",
    "    np.save(save_name,Q)"
   ]
  }
 ],
 "metadata": {
  "kernelspec": {
   "display_name": "Python 3",
   "language": "python",
   "name": "python3"
  },
  "language_info": {
   "codemirror_mode": {
    "name": "ipython",
    "version": 3
   },
   "file_extension": ".py",
   "mimetype": "text/x-python",
   "name": "python",
   "nbconvert_exporter": "python",
   "pygments_lexer": "ipython3",
   "version": "3.6.9"
  }
 },
 "nbformat": 4,
 "nbformat_minor": 2
}
